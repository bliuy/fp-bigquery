{
 "cells": [
  {
   "attachments": {},
   "cell_type": "markdown",
   "metadata": {},
   "source": [
    "# FastAPI repo review\n",
    "\n",
    "* The high level structure of the repo shows good delegation of the different branches of responsibilities.\n",
    "    * For instance, the source code is contained in only one of the folders.\n",
    "    * The remaining folders serves their own individual purpose - Performing testing, providing documentation, shell scripts for building docs etc.\n",
    "* In both the tests and application code folders, a relatively flat struture can be observed.\n",
    "    * Flat structure in this case implies the absence of multitudes of nested folders.\n",
    "* It is also observed that there is a significant amount of individual .py files.\n",
    "\n",
    "## Good points\n",
    "* Splitting of individual files is good for maintainability - It allows for the separation of responsibility, and the clearly labelled filename ensures that maintainers don't need to hunt through large files to isolate certain code blocks.\n",
    "* Most of the code was strictly typed - drastically reduces the occurences of TypeErrors during runtime.\n",
    "\n",
    "## Improvements\n",
    "* Noticed that there were certain files that weren't explicit about its purpose. For instance, the fastapi/fastapi/testclient.py has a single LOC which contains an import statment. This file may be useful in another part of the code or it may simply be abandoned, but it is unclear from a laypersons point of view.\n",
    "* While a flat structure helps in ensuring single responsibility, there may be benefit in grouping certain functions that are closely related into a single file to reduce the total number of files.\n",
    "    * This also applies to the unit tests, whereby using frameworks such as unittest and the corresponding TestSuite class may help to group and consolidate tests related to a single function/class.\n"
   ]
  }
 ],
 "metadata": {
  "language_info": {
   "name": "python"
  },
  "orig_nbformat": 4
 },
 "nbformat": 4,
 "nbformat_minor": 2
}
