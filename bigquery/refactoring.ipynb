{
 "cells": [
  {
   "attachments": {},
   "cell_type": "markdown",
   "metadata": {},
   "source": [
    "# Refactoring"
   ]
  },
  {
   "attachments": {},
   "cell_type": "markdown",
   "metadata": {},
   "source": [
    "## Definition\n",
    "* In essence, refactoring code is the process of making small changes to the structure of the code while maintaining its public behavior.\n",
    "* The main purpose of refactoring is to increase the efficiency in the various parts of the project.\n",
    "    * Programmer's efficiency - Reducing code complexity, improving readability.\n",
    "    * System efficiency - Optimizing performance of the code, reducing the potential for bugs.\n",
    "* For instance, take the sample Python code snippet below:"
   ]
  },
  {
   "cell_type": "code",
   "execution_count": 3,
   "metadata": {},
   "outputs": [
    {
     "name": "stdout",
     "output_type": "stream",
     "text": [
      "log 1: foo\n",
      "\n",
      "log 2: bar\n",
      "\n",
      "log 3: baz\n",
      "\n",
      "log 4: qux\n",
      "\n"
     ]
    }
   ],
   "source": [
    "# Simple operation - Writing a piece of information to a log file\n",
    "import os # Cleaning up created test file\n",
    "\n",
    "# Setup sample data\n",
    "logs = [\"log 1: foo\", \"log 2: bar\", \"log 3: baz\", \"log 4: qux\"]\n",
    "\n",
    "# Appending the data\n",
    "appended_logs: str = \"\"\n",
    "for log in logs:\n",
    "    appended_logs += f\"{log}\\n\"\n",
    "    \n",
    "# Writing the data\n",
    "opened_file = open(\"testlog.txt\", \"w\")\n",
    "opened_file.write(appended_logs)\n",
    "opened_file.close()\n",
    "\n",
    "# Validating the data has been written into a file\n",
    "reopened_file = open(f\"testlog.txt\", \"r\")\n",
    "for line in reopened_file.readlines():\n",
    "    print(line)\n",
    "reopened_file.close()\n",
    "\n",
    "# Performing cleanup\n",
    "os.remove(\"testlog.txt\")"
   ]
  },
  {
   "attachments": {},
   "cell_type": "markdown",
   "metadata": {},
   "source": [
    "* The example above appears to be working as expected with the correct output being created from the read file - This works as a MVP.\n",
    "* However, there are several opportunities for refactoring:\n",
    "    * The programmer has to remember to call the close() method of the file object each time after the file is written to/ read from.\n",
    "        * This creates an additional mental burden on the programmer.\n",
    "        * Failure to close files may lead to dangling file handles, eventually resulting in OSErrors and/or possibility of corrupted files.\n",
    "        * Purpose of refactoring: **Reducing the potential for bugs.**\n",
    "    * Current method of creating strings is relatively inefficient and may cause future scalability issues.\n",
    "        * Due to the immutable nature of strings in Python, appending to an existing string requires allocation of a new string instance, with the existing string being copied over in memory.\n",
    "        * With a small number of log messages there is virtually no measurable impact. However, as the number of log messages increases, this will become a growing problem.\n",
    "        * Purpose of refactoring: **Increasing performance.**  "
   ]
  },
  {
   "cell_type": "code",
   "execution_count": 4,
   "metadata": {},
   "outputs": [
    {
     "name": "stdout",
     "output_type": "stream",
     "text": [
      "log 1: foo\n",
      "\n",
      "log 2: bar\n",
      "\n",
      "log 3: baz\n",
      "\n",
      "log 4: qux\n",
      "\n"
     ]
    }
   ],
   "source": [
    "# Refactored version\n",
    "\n",
    "import os # Cleaning up created test file\n",
    "import io\n",
    "\n",
    "# Setup sample data\n",
    "logs = [\"log 1: foo\", \"log 2: bar\", \"log 3: baz\", \"log 4: qux\"]\n",
    "\n",
    "# Appending the data\n",
    "appended_logs_buffer = io.StringIO() # Writing to a mutable buffer.\n",
    "for log in logs:\n",
    "    appended_logs_buffer.write(f\"{log}\\n\") # Buffer will reallocate memory instead of performing copy\n",
    "appended_logs = appended_logs_buffer.getvalue()\n",
    "\n",
    "# Writing the data\n",
    "# Using context managers will obviate the need to call the close() method.\n",
    "# This make the code less error prone.\n",
    "with open(\"testlog.txt\", \"w\") as opened_file:\n",
    "    opened_file.write(appended_logs)\n",
    "    \n",
    "# Validating the data has been written into a file\n",
    "with open(\"testlog.txt\", \"r\") as reopened_file:\n",
    "    for line in reopened_file:\n",
    "        print(line)\n",
    "\n",
    "# Performing cleanup\n",
    "os.remove(\"testlog.txt\")"
   ]
  },
  {
   "attachments": {},
   "cell_type": "markdown",
   "metadata": {},
   "source": [
    "* To summarize, refactoring the code by re-writing certain portions of it has made it more robust and performant.\n",
    "* However, in reality performance optimization are usually only be carried out after the hot code paths are identified.\n",
    "    * The example above is lacking in this regard since it does performance optimization without any benchmarks.\n",
    "    * Perhaps the use case is only for tens of log messages, in which case using a mutable buffer over the naive method does not yield any noticeable performance increases since other overheads may dominate.\n",
    "* One import aspect to also consider during refactoring is that shorter code blocks may not always be the better option.\n",
    "    * Concise code is usually preferred, but sometimes longer code blocks that lays out the explicit steps may be preferable to shorter blocks that abstract away the important details."
   ]
  }
 ],
 "metadata": {
  "kernelspec": {
   "display_name": "Python 3",
   "language": "python",
   "name": "python3"
  },
  "language_info": {
   "codemirror_mode": {
    "name": "ipython",
    "version": 3
   },
   "file_extension": ".py",
   "mimetype": "text/x-python",
   "name": "python",
   "nbconvert_exporter": "python",
   "pygments_lexer": "ipython3",
   "version": "3.10.6"
  },
  "orig_nbformat": 4
 },
 "nbformat": 4,
 "nbformat_minor": 2
}
